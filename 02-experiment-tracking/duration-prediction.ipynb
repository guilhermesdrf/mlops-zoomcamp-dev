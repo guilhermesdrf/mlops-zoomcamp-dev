{
 "cells": [
  {
   "cell_type": "code",
   "execution_count": 1,
   "id": "d365a66f",
   "metadata": {},
   "outputs": [
    {
     "name": "stdout",
     "output_type": "stream",
     "text": [
      "Python 3.11.3\r\n"
     ]
    }
   ],
   "source": [
    "!python -V"
   ]
  },
  {
   "cell_type": "code",
   "execution_count": 2,
   "id": "b89e7786",
   "metadata": {},
   "outputs": [],
   "source": [
    "import pandas as pd\n",
    "import seaborn as sns\n",
    "import matplotlib.pyplot as plt"
   ]
  },
  {
   "cell_type": "code",
   "execution_count": 3,
   "id": "22be4367",
   "metadata": {},
   "outputs": [],
   "source": [
    "import pickle"
   ]
  },
  {
   "cell_type": "code",
   "execution_count": 4,
   "id": "7e6774f1",
   "metadata": {},
   "outputs": [],
   "source": [
    "from sklearn.feature_extraction import DictVectorizer\n",
    "from sklearn.linear_model import LinearRegression\n",
    "from sklearn.linear_model import Lasso\n",
    "from sklearn.linear_model import Ridge\n",
    "\n",
    "from sklearn.metrics import mean_squared_error"
   ]
  },
  {
   "cell_type": "code",
   "execution_count": 5,
   "id": "ac1dbd57",
   "metadata": {},
   "outputs": [
    {
     "data": {
      "text/plain": [
       "<Experiment: artifact_location='/home/ubuntu/experiment-tracking/mlruns/1', creation_time=1684852122439, experiment_id='1', last_update_time=1684852122439, lifecycle_stage='active', name='nyc-taxi-experiment', tags={}>"
      ]
     },
     "execution_count": 5,
     "metadata": {},
     "output_type": "execute_result"
    }
   ],
   "source": [
    "import mlflow\n",
    "\n",
    "mlflow.set_tracking_uri(\"sqlite:///mlflow.db\")\n",
    "mlflow.set_experiment(\"nyc-taxi-experiment\")"
   ]
  },
  {
   "cell_type": "code",
   "execution_count": 6,
   "id": "9e2c03d1",
   "metadata": {},
   "outputs": [],
   "source": [
    "def read_dataframe(filename, drop_outliers = True):\n",
    "    \n",
    "    df = pd.read_parquet(filename)\n",
    "\n",
    "    df['duration'] = df['tpep_dropoff_datetime'] - df['tpep_pickup_datetime']\n",
    "    df['duration'] = df['duration'].apply(lambda x: x.total_seconds()/60)\n",
    "\n",
    "    if drop_outliers:\n",
    "        df = df[(df.duration >= 1) & (df.duration <= 60)]\n",
    "\n",
    "    categorical = ['PULocationID', 'DOLocationID']\n",
    "\n",
    "    df[categorical] = df[categorical].astype(str)\n",
    "    \n",
    "    return df"
   ]
  },
  {
   "cell_type": "code",
   "execution_count": 7,
   "id": "88814089",
   "metadata": {},
   "outputs": [],
   "source": [
    "df_train = read_dataframe('./data/yellow_tripdata_2022-01.parquet')\n",
    "df_val = read_dataframe('./data/yellow_tripdata_2022-02.parquet')"
   ]
  },
  {
   "cell_type": "code",
   "execution_count": 8,
   "id": "46d521b2",
   "metadata": {},
   "outputs": [],
   "source": [
    "#df_train_with_outliers = read_dataframe('./data/yellow_tripdata_2022-01.parquet', drop_outliers = False)"
   ]
  },
  {
   "cell_type": "code",
   "execution_count": 9,
   "id": "32a1b259",
   "metadata": {},
   "outputs": [],
   "source": [
    "df_train['PU_DO'] = df_train['PULocationID'] + '_' + df_train['DOLocationID']\n",
    "df_val['PU_DO'] = df_val['PULocationID'] + '_' + df_val['DOLocationID']"
   ]
  },
  {
   "cell_type": "code",
   "execution_count": 10,
   "id": "e901272e",
   "metadata": {},
   "outputs": [],
   "source": [
    "categorical = ['PU_DO']#['PULocationID', 'DOLocationID']\n",
    "numerical = ['trip_distance']\n",
    "\n",
    "dv = DictVectorizer()\n",
    "\n",
    "train_dicts = df_train[categorical].to_dict(orient='records')\n",
    "X_train = dv.fit_transform(train_dicts)\n",
    "\n",
    "val_dicts = df_val[categorical].to_dict(orient='records')\n",
    "X_val = dv.transform(val_dicts)"
   ]
  },
  {
   "cell_type": "code",
   "execution_count": 11,
   "id": "45a9acac",
   "metadata": {},
   "outputs": [],
   "source": [
    "target = 'duration'\n",
    "y_train = df_train[target].values\n",
    "y_val = df_val[target].values"
   ]
  },
  {
   "cell_type": "code",
   "execution_count": 12,
   "id": "cd2341fb",
   "metadata": {},
   "outputs": [
    {
     "data": {
      "text/plain": [
       "5.415110936982529"
      ]
     },
     "execution_count": 12,
     "metadata": {},
     "output_type": "execute_result"
    }
   ],
   "source": [
    "lr = LinearRegression()\n",
    "lr.fit(X_train, y_train)\n",
    "\n",
    "y_pred = lr.predict(X_val)\n",
    "\n",
    "mean_squared_error(y_val, y_pred, squared=False)"
   ]
  },
  {
   "cell_type": "code",
   "execution_count": 18,
   "id": "861e3cab",
   "metadata": {
    "scrolled": true
   },
   "outputs": [
    {
     "name": "stderr",
     "output_type": "stream",
     "text": [
      "/tmp/ipykernel_3517/390297872.py:2: UserWarning: \n",
      "\n",
      "`distplot` is a deprecated function and will be removed in seaborn v0.14.0.\n",
      "\n",
      "Please adapt your code to use either `displot` (a figure-level function with\n",
      "similar flexibility) or `histplot` (an axes-level function for histograms).\n",
      "\n",
      "For a guide to updating your code to use the new functions, please see\n",
      "https://gist.github.com/mwaskom/de44147ed2974457ad6372750bbe5751\n",
      "\n",
      "  sns.distplot(y_train, label='actual')\n"
     ]
    },
    {
     "data": {
      "image/png": "[encoded data removed]",
      "text/plain": [
       "<Figure size 500x500 with 1 Axes>"
      ]
     },
     "metadata": {},
     "output_type": "display_data"
    }
   ],
   "source": [
    "sns.displot(y_pred, label='prediction')\n",
    "sns.distplot(y_train, label='actual')\n",
    "plt.legend()\n",
    "plt.show()"
   ]
  },
  {
   "cell_type": "code",
   "execution_count": 19,
   "id": "91f70c46",
   "metadata": {},
   "outputs": [],
   "source": [
    "with open('models/lin_reg.bin', 'wb') as f_out:\n",
    "    pickle.dump((dv, lr), f_out)"
   ]
  },
  {
   "cell_type": "code",
   "execution_count": 27,
   "id": "4f70bea8",
   "metadata": {},
   "outputs": [
    {
     "ename": "MlflowException",
     "evalue": "Invalid artifact path: 'models_pickle/'. Names may be treated as files in certain cases, and must not resolve to other names when treated as such. This name would resolve to 'models_pickle'",
     "output_type": "error",
     "traceback": [
      "\u001b[0;31m---------------------------------------------------------------------------\u001b[0m",
      "\u001b[0;31mMlflowException\u001b[0m                           Traceback (most recent call last)",
      "Cell \u001b[0;32mIn[27], line 21\u001b[0m\n\u001b[1;32m     17\u001b[0m rmse \u001b[38;5;241m=\u001b[39m mean_squared_error(y_val, y_pred, squared\u001b[38;5;241m=\u001b[39m\u001b[38;5;28;01mFalse\u001b[39;00m)\n\u001b[1;32m     19\u001b[0m mlflow\u001b[38;5;241m.\u001b[39mlog_metric(\u001b[38;5;124m\"\u001b[39m\u001b[38;5;124mrmse\u001b[39m\u001b[38;5;124m\"\u001b[39m, rmse)\n\u001b[0;32m---> 21\u001b[0m \u001b[43mmlflow\u001b[49m\u001b[38;5;241;43m.\u001b[39;49m\u001b[43mlog_artifact\u001b[49m\u001b[43m(\u001b[49m\u001b[43mlocal_path\u001b[49m\u001b[38;5;241;43m=\u001b[39;49m\u001b[38;5;124;43m\"\u001b[39;49m\u001b[38;5;124;43mmodels/lin_reg.bin\u001b[39;49m\u001b[38;5;124;43m\"\u001b[39;49m\u001b[43m,\u001b[49m\u001b[43m \u001b[49m\u001b[43martifact_path\u001b[49m\u001b[38;5;241;43m=\u001b[39;49m\u001b[38;5;124;43m\"\u001b[39;49m\u001b[38;5;124;43mmodels_pickle/\u001b[39;49m\u001b[38;5;124;43m\"\u001b[39;49m\u001b[43m)\u001b[49m\n",
      "File \u001b[0;32m~/anaconda3/envs/exp-tracking-env/lib/python3.11/site-packages/mlflow/tracking/fluent.py:784\u001b[0m, in \u001b[0;36mlog_artifact\u001b[0;34m(local_path, artifact_path)\u001b[0m\n\u001b[1;32m    761\u001b[0m \u001b[38;5;250m\u001b[39m\u001b[38;5;124;03m\"\"\"\u001b[39;00m\n\u001b[1;32m    762\u001b[0m \u001b[38;5;124;03mLog a local file or directory as an artifact of the currently active run. If no run is\u001b[39;00m\n\u001b[1;32m    763\u001b[0m \u001b[38;5;124;03mactive, this method will create a new active run.\u001b[39;00m\n\u001b[0;32m   (...)\u001b[0m\n\u001b[1;32m    781\u001b[0m \u001b[38;5;124;03m        mlflow.log_artifact(\"features.txt\")\u001b[39;00m\n\u001b[1;32m    782\u001b[0m \u001b[38;5;124;03m\"\"\"\u001b[39;00m\n\u001b[1;32m    783\u001b[0m run_id \u001b[38;5;241m=\u001b[39m _get_or_start_run()\u001b[38;5;241m.\u001b[39minfo\u001b[38;5;241m.\u001b[39mrun_id\n\u001b[0;32m--> 784\u001b[0m \u001b[43mMlflowClient\u001b[49m\u001b[43m(\u001b[49m\u001b[43m)\u001b[49m\u001b[38;5;241;43m.\u001b[39;49m\u001b[43mlog_artifact\u001b[49m\u001b[43m(\u001b[49m\u001b[43mrun_id\u001b[49m\u001b[43m,\u001b[49m\u001b[43m \u001b[49m\u001b[43mlocal_path\u001b[49m\u001b[43m,\u001b[49m\u001b[43m \u001b[49m\u001b[43martifact_path\u001b[49m\u001b[43m)\u001b[49m\n",
      "File \u001b[0;32m~/anaconda3/envs/exp-tracking-env/lib/python3.11/site-packages/mlflow/tracking/client.py:1028\u001b[0m, in \u001b[0;36mMlflowClient.log_artifact\u001b[0;34m(self, run_id, local_path, artifact_path)\u001b[0m\n\u001b[1;32m    993\u001b[0m \u001b[38;5;28;01mdef\u001b[39;00m \u001b[38;5;21mlog_artifact\u001b[39m(\u001b[38;5;28mself\u001b[39m, run_id, local_path, artifact_path\u001b[38;5;241m=\u001b[39m\u001b[38;5;28;01mNone\u001b[39;00m) \u001b[38;5;241m-\u001b[39m\u001b[38;5;241m>\u001b[39m \u001b[38;5;28;01mNone\u001b[39;00m:\n\u001b[1;32m    994\u001b[0m \u001b[38;5;250m    \u001b[39m\u001b[38;5;124;03m\"\"\"\u001b[39;00m\n\u001b[1;32m    995\u001b[0m \u001b[38;5;124;03m    Write a local file or directory to the remote ``artifact_uri``.\u001b[39;00m\n\u001b[1;32m    996\u001b[0m \n\u001b[0;32m   (...)\u001b[0m\n\u001b[1;32m   1026\u001b[0m \u001b[38;5;124;03m        is_dir: False\u001b[39;00m\n\u001b[1;32m   1027\u001b[0m \u001b[38;5;124;03m    \"\"\"\u001b[39;00m\n\u001b[0;32m-> 1028\u001b[0m     \u001b[38;5;28;43mself\u001b[39;49m\u001b[38;5;241;43m.\u001b[39;49m\u001b[43m_tracking_client\u001b[49m\u001b[38;5;241;43m.\u001b[39;49m\u001b[43mlog_artifact\u001b[49m\u001b[43m(\u001b[49m\u001b[43mrun_id\u001b[49m\u001b[43m,\u001b[49m\u001b[43m \u001b[49m\u001b[43mlocal_path\u001b[49m\u001b[43m,\u001b[49m\u001b[43m \u001b[49m\u001b[43martifact_path\u001b[49m\u001b[43m)\u001b[49m\n",
      "File \u001b[0;32m~/anaconda3/envs/exp-tracking-env/lib/python3.11/site-packages/mlflow/tracking/_tracking_service/client.py:439\u001b[0m, in \u001b[0;36mTrackingServiceClient.log_artifact\u001b[0;34m(self, run_id, local_path, artifact_path)\u001b[0m\n\u001b[1;32m    437\u001b[0m     artifact_repo\u001b[38;5;241m.\u001b[39mlog_artifacts(local_path, path_name)\n\u001b[1;32m    438\u001b[0m \u001b[38;5;28;01melse\u001b[39;00m:\n\u001b[0;32m--> 439\u001b[0m     \u001b[43martifact_repo\u001b[49m\u001b[38;5;241;43m.\u001b[39;49m\u001b[43mlog_artifact\u001b[49m\u001b[43m(\u001b[49m\u001b[43mlocal_path\u001b[49m\u001b[43m,\u001b[49m\u001b[43m \u001b[49m\u001b[43martifact_path\u001b[49m\u001b[43m)\u001b[49m\n",
      "File \u001b[0;32m~/anaconda3/envs/exp-tracking-env/lib/python3.11/site-packages/mlflow/store/artifact/local_artifact_repo.py:27\u001b[0m, in \u001b[0;36mLocalArtifactRepository.log_artifact\u001b[0;34m(self, local_file, artifact_path)\u001b[0m\n\u001b[1;32m     26\u001b[0m \u001b[38;5;28;01mdef\u001b[39;00m \u001b[38;5;21mlog_artifact\u001b[39m(\u001b[38;5;28mself\u001b[39m, local_file, artifact_path\u001b[38;5;241m=\u001b[39m\u001b[38;5;28;01mNone\u001b[39;00m):\n\u001b[0;32m---> 27\u001b[0m     \u001b[43mverify_artifact_path\u001b[49m\u001b[43m(\u001b[49m\u001b[43martifact_path\u001b[49m\u001b[43m)\u001b[49m\n\u001b[1;32m     28\u001b[0m     \u001b[38;5;66;03m# NOTE: The artifact_path is expected to be in posix format.\u001b[39;00m\n\u001b[1;32m     29\u001b[0m     \u001b[38;5;66;03m# Posix paths work fine on windows but just in case we normalize it here.\u001b[39;00m\n\u001b[1;32m     30\u001b[0m     \u001b[38;5;28;01mif\u001b[39;00m artifact_path:\n",
      "File \u001b[0;32m~/anaconda3/envs/exp-tracking-env/lib/python3.11/site-packages/mlflow/store/artifact/artifact_repo.py:309\u001b[0m, in \u001b[0;36mverify_artifact_path\u001b[0;34m(artifact_path)\u001b[0m\n\u001b[1;32m    307\u001b[0m \u001b[38;5;28;01mdef\u001b[39;00m \u001b[38;5;21mverify_artifact_path\u001b[39m(artifact_path):\n\u001b[1;32m    308\u001b[0m     \u001b[38;5;28;01mif\u001b[39;00m artifact_path \u001b[38;5;129;01mand\u001b[39;00m path_not_unique(artifact_path):\n\u001b[0;32m--> 309\u001b[0m         \u001b[38;5;28;01mraise\u001b[39;00m MlflowException(\n\u001b[1;32m    310\u001b[0m             \u001b[38;5;124m\"\u001b[39m\u001b[38;5;124mInvalid artifact path: \u001b[39m\u001b[38;5;124m'\u001b[39m\u001b[38;5;132;01m{}\u001b[39;00m\u001b[38;5;124m'\u001b[39m\u001b[38;5;124m. \u001b[39m\u001b[38;5;132;01m{}\u001b[39;00m\u001b[38;5;124m\"\u001b[39m\u001b[38;5;241m.\u001b[39mformat(artifact_path, bad_path_message(artifact_path))\n\u001b[1;32m    311\u001b[0m         )\n",
      "\u001b[0;31mMlflowException\u001b[0m: Invalid artifact path: 'models_pickle/'. Names may be treated as files in certain cases, and must not resolve to other names when treated as such. This name would resolve to 'models_pickle'"
     ]
    }
   ],
   "source": [
    "with mlflow.start_run():\n",
    "    \n",
    "    mlflow.set_tag(\"developer\", \"GSDRF\")\n",
    "    \n",
    "    mlflow.log_param(\"train-data-path\", \"./data/yellow_tripdata_2022-01.parquet\")\n",
    "    mlflow.log_param(\"val-data-path\", \"./data/yellow_tripdata_2022-02.parquet\")\n",
    "    \n",
    "    alpha = 0.01\n",
    "    \n",
    "    mlflow.log_param(\"alpha\", alpha)\n",
    "    \n",
    "    lr = Lasso(alpha)\n",
    "    lr.fit(X_train, y_train)\n",
    "\n",
    "    y_pred = lr.predict(X_val)\n",
    "\n",
    "    rmse = mean_squared_error(y_val, y_pred, squared=False)\n",
    "    \n",
    "    mlflow.log_metric(\"rmse\", rmse)\n",
    "    \n",
    "    mlflow.log_artifact(local_path=\"models/lin_reg.bin\", artifact_path=\"models_pickle/\")"
   ]
  },
  {
   "cell_type": "code",
   "execution_count": 57,
   "id": "9aaee439",
   "metadata": {},
   "outputs": [
    {
     "data": {
      "text/plain": [
       "5.426826495645482"
      ]
     },
     "execution_count": 57,
     "metadata": {},
     "output_type": "execute_result"
    }
   ],
   "source": [
    "lr = Ridge(alpha=.001)\n",
    "lr.fit(X_train, y_train)\n",
    "\n",
    "y_pred = lr.predict(X_val)\n",
    "\n",
    "mean_squared_error(y_val, y_pred, squared=False)"
   ]
  },
  {
   "cell_type": "code",
   "execution_count": 13,
   "id": "748314b3",
   "metadata": {},
   "outputs": [],
   "source": [
    "import xgboost as xgb"
   ]
  },
  {
   "cell_type": "code",
   "execution_count": 14,
   "id": "391cf4fa",
   "metadata": {},
   "outputs": [],
   "source": [
    "from hyperopt import fmin, tpe, hp, STATUS_OK, Trials\n",
    "from hyperopt.pyll import scope"
   ]
  },
  {
   "cell_type": "code",
   "execution_count": 15,
   "id": "cb229e5c",
   "metadata": {},
   "outputs": [],
   "source": [
    "train = xgb.DMatrix(X_train, label=y_train)\n",
    "valid = xgb.DMatrix(X_val, label=y_val)"
   ]
  },
  {
   "cell_type": "code",
   "execution_count": 22,
   "id": "23b01835",
   "metadata": {},
   "outputs": [],
   "source": [
    "def objective(params):\n",
    "    with mlflow.start_run():\n",
    "        mlflow.set_tag(\"model\", \"xgboost\")\n",
    "        mlflow.log_params(params)\n",
    "        booster = xgb.train(\n",
    "            params=params,\n",
    "            dtrain=train,\n",
    "            num_boost_round=20,\n",
    "            evals=[(valid, 'validation')],\n",
    "            early_stopping_rounds=10\n",
    "        )\n",
    "        y_pred = booster.predict(valid)\n",
    "        rmse = mean_squared_error(y_val, y_pred, squared=False)\n",
    "        mlflow.log_metric(\"rmse\", rmse)\n",
    "\n",
    "    return {'loss': rmse, 'status': STATUS_OK}"
   ]
  },
  {
   "cell_type": "code",
   "execution_count": 23,
   "id": "58730f25",
   "metadata": {
    "scrolled": true
   },
   "outputs": [
    {
     "name": "stdout",
     "output_type": "stream",
     "text": [
      "[14:19:34] WARNING: ../src/objective/regression_obj.cu:213: reg:linear is now deprecated in favor of reg:squarederror.\n",
      "[0]\tvalidation-rmse:15.69205                                                                        \n",
      "[1]\tvalidation-rmse:15.02783                                                                        \n",
      "[2]\tvalidation-rmse:14.42506                                                                        \n",
      "[3]\tvalidation-rmse:13.87873                                                                        \n",
      "[4]\tvalidation-rmse:13.38370                                                                        \n",
      "[5]\tvalidation-rmse:12.93545                                                                        \n",
      "[6]\tvalidation-rmse:12.53114                                                                        \n",
      "[7]\tvalidation-rmse:12.16515                                                                        \n",
      "[8]\tvalidation-rmse:11.83682                                                                        \n",
      "[9]\tvalidation-rmse:11.53788                                                                        \n",
      "[10]\tvalidation-rmse:11.27041                                                                       \n",
      "[11]\tvalidation-rmse:11.03001                                                                       \n",
      "[12]\tvalidation-rmse:10.81012                                                                       \n",
      "[13]\tvalidation-rmse:10.61461                                                                       \n",
      "[14]\tvalidation-rmse:10.43994                                                                       \n",
      "[15]\tvalidation-rmse:10.28149                                                                       \n",
      "[16]\tvalidation-rmse:10.13476                                                                       \n",
      "[17]\tvalidation-rmse:10.00761                                                                       \n",
      "[18]\tvalidation-rmse:9.89146                                                                        \n",
      "[19]\tvalidation-rmse:9.78649                                                                        \n",
      "[14:20:27] WARNING: ../src/objective/regression_obj.cu:213: reg:linear is now deprecated in favor of reg:squarederror.\n",
      "[0]\tvalidation-rmse:9.25257                                                                         \n",
      "[1]\tvalidation-rmse:8.95741                                                                         \n",
      "[2]\tvalidation-rmse:8.75771                                                                         \n",
      "[3]\tvalidation-rmse:8.60104                                                                         \n",
      "[4]\tvalidation-rmse:8.46320                                                                         \n",
      "[5]\tvalidation-rmse:8.33225                                                                         \n",
      "[6]\tvalidation-rmse:8.22673                                                                         \n",
      "[7]\tvalidation-rmse:8.12319                                                                         \n",
      "[8]\tvalidation-rmse:8.02985                                                                         \n",
      "[9]\tvalidation-rmse:7.94601                                                                         \n",
      "[10]\tvalidation-rmse:7.86400                                                                        \n",
      "[11]\tvalidation-rmse:7.78715                                                                        \n",
      "[12]\tvalidation-rmse:7.71652                                                                        \n",
      "[13]\tvalidation-rmse:7.64857                                                                        \n",
      "[14]\tvalidation-rmse:7.58253                                                                        \n",
      "[15]\tvalidation-rmse:7.52689                                                                        \n",
      "[16]\tvalidation-rmse:7.47296                                                                        \n",
      "[17]\tvalidation-rmse:7.41926                                                                        \n",
      "[18]\tvalidation-rmse:7.36923                                                                        \n",
      "[19]\tvalidation-rmse:7.32109                                                                        \n",
      "[14:20:56] WARNING: ../src/objective/regression_obj.cu:213: reg:linear is now deprecated in favor of reg:squarederror.\n",
      "[0]\tvalidation-rmse:10.37159                                                                        \n",
      "[1]\tvalidation-rmse:8.95795                                                                         \n",
      "[2]\tvalidation-rmse:8.49753                                                                         \n",
      "[3]\tvalidation-rmse:8.25206                                                                         \n",
      "[4]\tvalidation-rmse:8.07781                                                                         \n",
      "[5]\tvalidation-rmse:7.93321                                                                         \n",
      "[6]\tvalidation-rmse:7.81747                                                                         \n",
      "[7]\tvalidation-rmse:7.71158                                                                         \n",
      "[8]\tvalidation-rmse:7.62006                                                                         \n",
      "[9]\tvalidation-rmse:7.53686                                                                         \n",
      "[10]\tvalidation-rmse:7.45949                                                                        \n",
      "[11]\tvalidation-rmse:7.38797                                                                        \n",
      "[12]\tvalidation-rmse:7.32416                                                                        \n",
      "[13]\tvalidation-rmse:7.26455                                                                        \n",
      "[14]\tvalidation-rmse:7.20831                                                                        \n",
      "[15]\tvalidation-rmse:7.15354                                                                        \n",
      "[16]\tvalidation-rmse:7.10292                                                                        \n",
      "[17]\tvalidation-rmse:7.05833                                                                        \n",
      "[18]\tvalidation-rmse:7.01549                                                                        \n",
      "[19]\tvalidation-rmse:6.97590                                                                        \n",
      "[14:24:37] WARNING: ../src/objective/regression_obj.cu:213: reg:linear is now deprecated in favor of reg:squarederror.\n",
      "[0]\tvalidation-rmse:15.16007                                                                        \n",
      "[1]\tvalidation-rmse:14.09338                                                                        \n",
      "[2]\tvalidation-rmse:13.19741                                                                        \n",
      "[3]\tvalidation-rmse:12.44934                                                                        \n",
      "[4]\tvalidation-rmse:11.82356                                                                        \n",
      "[5]\tvalidation-rmse:11.30094                                                                        \n",
      "[6]\tvalidation-rmse:10.87007                                                                        \n",
      "[7]\tvalidation-rmse:10.50236                                                                        \n",
      "[8]\tvalidation-rmse:10.20302                                                                        \n",
      "[9]\tvalidation-rmse:9.95429                                                                         \n",
      "[10]\tvalidation-rmse:9.74360                                                                        \n",
      "[11]\tvalidation-rmse:9.56982                                                                        \n",
      "[12]\tvalidation-rmse:9.41676                                                                        \n",
      "[13]\tvalidation-rmse:9.29180                                                                        \n",
      "[14]\tvalidation-rmse:9.18551                                                                        \n",
      "[15]\tvalidation-rmse:9.08838                                                                        \n"
     ]
    },
    {
     "name": "stdout",
     "output_type": "stream",
     "text": [
      "[16]\tvalidation-rmse:9.01024                                                                        \n",
      "[17]\tvalidation-rmse:8.93753                                                                        \n",
      "[18]\tvalidation-rmse:8.87508                                                                        \n",
      "[19]\tvalidation-rmse:8.81714                                                                        \n",
      "[14:25:34] WARNING: ../src/objective/regression_obj.cu:213: reg:linear is now deprecated in favor of reg:squarederror.\n",
      "[0]\tvalidation-rmse:14.86100                                                                        \n",
      "[1]\tvalidation-rmse:13.59137                                                                        \n",
      "[2]\tvalidation-rmse:12.56567                                                                        \n",
      "[3]\tvalidation-rmse:11.73627                                                                        \n",
      "[4]\tvalidation-rmse:11.06221                                                                        \n",
      "[5]\tvalidation-rmse:10.53223                                                                        \n",
      "[6]\tvalidation-rmse:10.10855                                                                        \n",
      "[7]\tvalidation-rmse:9.75276                                                                         \n",
      "[8]\tvalidation-rmse:9.48017                                                                         \n",
      "[9]\tvalidation-rmse:9.24713                                                                         \n",
      "[10]\tvalidation-rmse:9.06371                                                                        \n",
      "[11]\tvalidation-rmse:8.90452                                                                        \n",
      "[12]\tvalidation-rmse:8.77998                                                                        \n",
      "[13]\tvalidation-rmse:8.66704                                                                        \n",
      "[14]\tvalidation-rmse:8.57589                                                                        \n",
      "[15]\tvalidation-rmse:8.49110                                                                        \n",
      "[16]\tvalidation-rmse:8.42138                                                                        \n",
      "[17]\tvalidation-rmse:8.36182                                                                        \n",
      "[18]\tvalidation-rmse:8.30107                                                                        \n",
      "[19]\tvalidation-rmse:8.24825                                                                        \n",
      "[14:28:50] WARNING: ../src/objective/regression_obj.cu:213: reg:linear is now deprecated in favor of reg:squarederror.\n",
      "[0]\tvalidation-rmse:14.11623                                                                        \n",
      "[1]\tvalidation-rmse:12.49898                                                                        \n",
      "[2]\tvalidation-rmse:11.37247                                                                        \n",
      "[3]\tvalidation-rmse:10.60115                                                                        \n",
      "[4]\tvalidation-rmse:10.07115                                                                        \n",
      "[5]\tvalidation-rmse:9.70206                                                                         \n",
      "[6]\tvalidation-rmse:9.44240                                                                         \n",
      "[7]\tvalidation-rmse:9.25462                                                                         \n",
      "[8]\tvalidation-rmse:9.10857                                                                         \n",
      "[9]\tvalidation-rmse:8.99839                                                                         \n",
      "[10]\tvalidation-rmse:8.91116                                                                        \n",
      "[11]\tvalidation-rmse:8.83880                                                                        \n",
      "[12]\tvalidation-rmse:8.77801                                                                        \n",
      "[13]\tvalidation-rmse:8.72723                                                                        \n",
      "[14]\tvalidation-rmse:8.68020                                                                        \n",
      "[15]\tvalidation-rmse:8.63525                                                                        \n",
      "[16]\tvalidation-rmse:8.59672                                                                        \n",
      "[17]\tvalidation-rmse:8.55861                                                                        \n",
      "[18]\tvalidation-rmse:8.52412                                                                        \n",
      "[19]\tvalidation-rmse:8.49031                                                                        \n",
      "[14:30:14] WARNING: ../src/objective/regression_obj.cu:213: reg:linear is now deprecated in favor of reg:squarederror.\n",
      "[0]\tvalidation-rmse:13.69926                                                                        \n",
      "[1]\tvalidation-rmse:11.96463                                                                        \n",
      "[2]\tvalidation-rmse:10.89432                                                                        \n",
      "[3]\tvalidation-rmse:10.23960                                                                        \n",
      "[4]\tvalidation-rmse:9.82449                                                                         \n",
      "[5]\tvalidation-rmse:9.56427                                                                         \n",
      "[6]\tvalidation-rmse:9.39055                                                                         \n",
      "[7]\tvalidation-rmse:9.26444                                                                         \n",
      "[8]\tvalidation-rmse:9.17647                                                                         \n",
      "[9]\tvalidation-rmse:9.10632                                                                         \n",
      "[10]\tvalidation-rmse:9.05204                                                                        \n",
      "[11]\tvalidation-rmse:9.00800                                                                        \n",
      "[12]\tvalidation-rmse:8.96321                                                                        \n",
      "[13]\tvalidation-rmse:8.92087                                                                        \n",
      "[14]\tvalidation-rmse:8.88438                                                                        \n",
      "[15]\tvalidation-rmse:8.85278                                                                        \n",
      "[16]\tvalidation-rmse:8.82241                                                                        \n",
      "[17]\tvalidation-rmse:8.79397                                                                        \n",
      "[18]\tvalidation-rmse:8.76621                                                                        \n",
      "[19]\tvalidation-rmse:8.74036                                                                        \n",
      "[14:30:32] WARNING: ../src/objective/regression_obj.cu:213: reg:linear is now deprecated in favor of reg:squarederror.\n",
      "[0]\tvalidation-rmse:10.50242                                                                        \n",
      "[1]\tvalidation-rmse:9.16001                                                                         \n",
      "[2]\tvalidation-rmse:8.74993                                                                         \n",
      "[3]\tvalidation-rmse:8.52583                                                                         \n",
      "[4]\tvalidation-rmse:8.37286                                                                         \n",
      "[5]\tvalidation-rmse:8.24902                                                                         \n",
      "[6]\tvalidation-rmse:8.13736                                                                         \n",
      "[7]\tvalidation-rmse:8.04173                                                                         \n",
      "[8]\tvalidation-rmse:7.95396                                                                         \n",
      "[9]\tvalidation-rmse:7.87581                                                                         \n",
      "[10]\tvalidation-rmse:7.80056                                                                        \n",
      "[11]\tvalidation-rmse:7.73311                                                                        \n"
     ]
    },
    {
     "name": "stdout",
     "output_type": "stream",
     "text": [
      "[12]\tvalidation-rmse:7.67246                                                                        \n",
      "[13]\tvalidation-rmse:7.61527                                                                        \n",
      "[14]\tvalidation-rmse:7.55923                                                                        \n",
      "[15]\tvalidation-rmse:7.50672                                                                        \n",
      "[16]\tvalidation-rmse:7.45822                                                                        \n",
      "[17]\tvalidation-rmse:7.41112                                                                        \n",
      "[18]\tvalidation-rmse:7.36722                                                                        \n",
      "[19]\tvalidation-rmse:7.32636                                                                        \n",
      "[14:31:54] WARNING: ../src/objective/regression_obj.cu:213: reg:linear is now deprecated in favor of reg:squarederror.\n",
      "[0]\tvalidation-rmse:14.25933                                                                        \n",
      "[1]\tvalidation-rmse:12.66408                                                                        \n",
      "[2]\tvalidation-rmse:11.49402                                                                        \n",
      "[3]\tvalidation-rmse:10.64236                                                                        \n",
      "[4]\tvalidation-rmse:10.02953                                                                        \n",
      "[5]\tvalidation-rmse:9.58247                                                                         \n",
      "[6]\tvalidation-rmse:9.24215                                                                         \n",
      "[7]\tvalidation-rmse:8.99435                                                                         \n",
      "[8]\tvalidation-rmse:8.79428                                                                         \n",
      "[9]\tvalidation-rmse:8.64461                                                                         \n",
      "[10]\tvalidation-rmse:8.51725                                                                        \n",
      "[11]\tvalidation-rmse:8.42056                                                                        \n",
      "[12]\tvalidation-rmse:8.33077                                                                        \n",
      "[13]\tvalidation-rmse:8.25808                                                                        \n",
      "[14]\tvalidation-rmse:8.18887                                                                        \n",
      "[15]\tvalidation-rmse:8.13341                                                                        \n",
      "[16]\tvalidation-rmse:8.08278                                                                        \n",
      "[17]\tvalidation-rmse:8.03101                                                                        \n",
      "[18]\tvalidation-rmse:7.98708                                                                        \n",
      "[19]\tvalidation-rmse:7.94664                                                                        \n",
      "[14:35:20] WARNING: ../src/objective/regression_obj.cu:213: reg:linear is now deprecated in favor of reg:squarederror.\n",
      "[0]\tvalidation-rmse:15.01657                                                                        \n",
      "[1]\tvalidation-rmse:13.84680                                                                        \n",
      "[2]\tvalidation-rmse:12.87888                                                                        \n",
      "[3]\tvalidation-rmse:12.07980                                                                        \n",
      "[4]\tvalidation-rmse:11.41518                                                                        \n",
      "[5]\tvalidation-rmse:10.87812                                                                        \n",
      "[6]\tvalidation-rmse:10.43903                                                                        \n",
      "[7]\tvalidation-rmse:10.06361                                                                        \n",
      "[8]\tvalidation-rmse:9.76753                                                                         \n",
      "[9]\tvalidation-rmse:9.51365                                                                         \n",
      "[10]\tvalidation-rmse:9.31093                                                                        \n",
      "[11]\tvalidation-rmse:9.13352                                                                        \n",
      "[12]\tvalidation-rmse:8.99064                                                                        \n",
      "[13]\tvalidation-rmse:8.86397                                                                        \n",
      "[14]\tvalidation-rmse:8.76096                                                                        \n",
      "[15]\tvalidation-rmse:8.66646                                                                        \n",
      "[16]\tvalidation-rmse:8.58982                                                                        \n",
      "[17]\tvalidation-rmse:8.51618                                                                        \n",
      "[18]\tvalidation-rmse:8.45573                                                                        \n",
      "[19]\tvalidation-rmse:8.39699                                                                        \n",
      "[14:37:32] WARNING: ../src/objective/regression_obj.cu:213: reg:linear is now deprecated in favor of reg:squarederror.\n",
      "[0]\tvalidation-rmse:14.84977                                                                        \n",
      "[1]\tvalidation-rmse:13.59022                                                                        \n",
      "[2]\tvalidation-rmse:12.58440                                                                        \n",
      "[3]\tvalidation-rmse:11.79014                                                                        \n",
      "[4]\tvalidation-rmse:11.16117                                                                        \n",
      "[5]\tvalidation-rmse:10.66024                                                                        \n",
      "[6]\tvalidation-rmse:10.27331                                                                        \n",
      "[7]\tvalidation-rmse:9.96830                                                                         \n",
      "[8]\tvalidation-rmse:9.71742                                                                         \n",
      "[9]\tvalidation-rmse:9.51875                                                                         \n",
      "[10]\tvalidation-rmse:9.36137                                                                        \n",
      "[11]\tvalidation-rmse:9.22857                                                                        \n",
      "[12]\tvalidation-rmse:9.12563                                                                        \n",
      "[13]\tvalidation-rmse:9.03449                                                                        \n",
      "[14]\tvalidation-rmse:8.95469                                                                        \n",
      "[15]\tvalidation-rmse:8.88989                                                                        \n",
      "[16]\tvalidation-rmse:8.83022                                                                        \n",
      "[17]\tvalidation-rmse:8.78153                                                                        \n",
      "[18]\tvalidation-rmse:8.73450                                                                        \n",
      "[19]\tvalidation-rmse:8.69593                                                                        \n",
      "[14:39:43] WARNING: ../src/objective/regression_obj.cu:213: reg:linear is now deprecated in favor of reg:squarederror.\n",
      "[0]\tvalidation-rmse:13.19963                                                                        \n",
      "[1]\tvalidation-rmse:11.31419                                                                        \n",
      "[2]\tvalidation-rmse:10.23066                                                                        \n",
      "[3]\tvalidation-rmse:9.61303                                                                         \n",
      "[4]\tvalidation-rmse:9.23910                                                                         \n",
      "[5]\tvalidation-rmse:8.99254                                                                         \n",
      "[6]\tvalidation-rmse:8.83229                                                                         \n",
      "[7]\tvalidation-rmse:8.71064                                                                         \n"
     ]
    },
    {
     "name": "stdout",
     "output_type": "stream",
     "text": [
      "[8]\tvalidation-rmse:8.61831                                                                         \n",
      "[9]\tvalidation-rmse:8.53651                                                                         \n",
      "[10]\tvalidation-rmse:8.47022                                                                        \n",
      "[11]\tvalidation-rmse:8.40545                                                                        \n",
      "[12]\tvalidation-rmse:8.35276                                                                        \n",
      "[13]\tvalidation-rmse:8.30133                                                                        \n",
      "[14]\tvalidation-rmse:8.25423                                                                        \n",
      "[15]\tvalidation-rmse:8.20759                                                                        \n",
      "[16]\tvalidation-rmse:8.16652                                                                        \n",
      "[17]\tvalidation-rmse:8.12464                                                                        \n",
      "[18]\tvalidation-rmse:8.08955                                                                        \n",
      "[19]\tvalidation-rmse:8.05225                                                                        \n",
      "[14:40:32] WARNING: ../src/objective/regression_obj.cu:213: reg:linear is now deprecated in favor of reg:squarederror.\n",
      "[0]\tvalidation-rmse:15.24412                                                                        \n",
      "[1]\tvalidation-rmse:14.25155                                                                        \n",
      "[2]\tvalidation-rmse:13.41594                                                                        \n",
      "[3]\tvalidation-rmse:12.71535                                                                        \n",
      "[4]\tvalidation-rmse:12.13734                                                                        \n",
      "[5]\tvalidation-rmse:11.65529                                                                        \n",
      "[6]\tvalidation-rmse:11.25718                                                                        \n",
      "[7]\tvalidation-rmse:10.92652                                                                        \n",
      "[8]\tvalidation-rmse:10.65664                                                                        \n",
      "[9]\tvalidation-rmse:10.43373                                                                        \n",
      "[10]\tvalidation-rmse:10.24793                                                                       \n",
      "[11]\tvalidation-rmse:10.09406                                                                       \n",
      "[12]\tvalidation-rmse:9.96589                                                                        \n",
      "[13]\tvalidation-rmse:9.85955                                                                        \n",
      "[14]\tvalidation-rmse:9.77060                                                                        \n",
      "[15]\tvalidation-rmse:9.69474                                                                        \n",
      "[16]\tvalidation-rmse:9.63069                                                                        \n",
      "[17]\tvalidation-rmse:9.57407                                                                        \n",
      "[18]\tvalidation-rmse:9.52745                                                                        \n",
      "[19]\tvalidation-rmse:9.48520                                                                        \n",
      "[14:40:46] WARNING: ../src/objective/regression_obj.cu:213: reg:linear is now deprecated in favor of reg:squarederror.\n",
      "[0]\tvalidation-rmse:15.25954                                                                        \n",
      "[1]\tvalidation-rmse:14.26655                                                                        \n",
      "[2]\tvalidation-rmse:13.42179                                                                        \n",
      "[3]\tvalidation-rmse:12.70456                                                                        \n",
      "[4]\tvalidation-rmse:12.09708                                                                        \n",
      "[5]\tvalidation-rmse:11.58581                                                                        \n",
      "[6]\tvalidation-rmse:11.15038                                                                        \n",
      "[7]\tvalidation-rmse:10.78771                                                                        \n",
      "[8]\tvalidation-rmse:10.48434                                                                        \n",
      "[9]\tvalidation-rmse:10.22094                                                                        \n",
      "[10]\tvalidation-rmse:10.00204                                                                       \n",
      "[11]\tvalidation-rmse:9.81975                                                                        \n",
      "[12]\tvalidation-rmse:9.66497                                                                        \n",
      "[13]\tvalidation-rmse:9.52631                                                                        \n",
      "[14]\tvalidation-rmse:9.41069                                                                        \n",
      "[15]\tvalidation-rmse:9.31403                                                                        \n",
      "[16]\tvalidation-rmse:9.22528                                                                        \n",
      "[17]\tvalidation-rmse:9.15068                                                                        \n",
      "[18]\tvalidation-rmse:9.08550                                                                        \n",
      "[19]\tvalidation-rmse:9.02419                                                                        \n",
      "[14:42:33] WARNING: ../src/objective/regression_obj.cu:213: reg:linear is now deprecated in favor of reg:squarederror.\n",
      "[0]\tvalidation-rmse:13.12861                                                                        \n",
      "[1]\tvalidation-rmse:11.26099                                                                        \n",
      "[2]\tvalidation-rmse:10.22041                                                                        \n",
      "[3]\tvalidation-rmse:9.63805                                                                         \n",
      "[4]\tvalidation-rmse:9.29991                                                                         \n",
      "[5]\tvalidation-rmse:9.08928                                                                         \n",
      "[6]\tvalidation-rmse:8.94320                                                                         \n",
      "[7]\tvalidation-rmse:8.82998                                                                         \n",
      "[8]\tvalidation-rmse:8.74777                                                                         \n",
      "[9]\tvalidation-rmse:8.67661                                                                         \n",
      "[10]\tvalidation-rmse:8.61773                                                                        \n",
      "[11]\tvalidation-rmse:8.56423                                                                        \n",
      "[12]\tvalidation-rmse:8.51469                                                                        \n",
      "[13]\tvalidation-rmse:8.46776                                                                        \n",
      "[14]\tvalidation-rmse:8.42537                                                                        \n",
      "[15]\tvalidation-rmse:8.38296                                                                        \n",
      "[16]\tvalidation-rmse:8.34368                                                                        \n",
      "[17]\tvalidation-rmse:8.30937                                                                        \n",
      "[18]\tvalidation-rmse:8.27293                                                                        \n",
      "[19]\tvalidation-rmse:8.23928                                                                        \n",
      "100%|███████████████████████████████| 15/15 [24:51<00:00, 99.46s/trial, best loss: 6.97590147918319]\n"
     ]
    }
   ],
   "source": [
    "search_space = {\n",
    "    'max_depth': scope.int(hp.quniform('max_depth', 4, 100, 1)),\n",
    "    'learning_rate': hp.loguniform('learning_rate', -3, 0),\n",
    "    'reg_alpha': hp.loguniform('reg_alpha', -5, -1),\n",
    "    'reg_lambda': hp.loguniform('reg_lambda', -6, -1),\n",
    "    'min_child_weight': hp.loguniform('min_child_weight', -1, 3),\n",
    "    'objective': 'reg:linear',\n",
    "    'seed': 42\n",
    "}\n",
    "\n",
    "best_result = fmin(\n",
    "    fn=objective,\n",
    "    space=search_space,\n",
    "    algo=tpe.suggest,\n",
    "    max_evals=15,\n",
    "    trials=Trials()\n",
    ")"
   ]
  },
  {
   "cell_type": "code",
   "execution_count": 26,
   "id": "82d1bc78",
   "metadata": {},
   "outputs": [
    {
     "name": "stderr",
     "output_type": "stream",
     "text": [
      "2023/05/24 15:38:19 INFO mlflow.utils.autologging_utils: Created MLflow autologging run with ID '014b4202d88445b885ad870db0a2d4b0', which will track hyperparameters, performance metrics, model artifacts, and lineage information for the current xgboost workflow\n"
     ]
    },
    {
     "name": "stdout",
     "output_type": "stream",
     "text": [
      "[15:38:19] WARNING: ../src/objective/regression_obj.cu:213: reg:linear is now deprecated in favor of reg:squarederror.\n",
      "[0]\tvalidation-rmse:9.25257\n",
      "[1]\tvalidation-rmse:8.95741\n",
      "[2]\tvalidation-rmse:8.75771\n",
      "[3]\tvalidation-rmse:8.60104\n",
      "[4]\tvalidation-rmse:8.46320\n",
      "[5]\tvalidation-rmse:8.33225\n",
      "[6]\tvalidation-rmse:8.22673\n",
      "[7]\tvalidation-rmse:8.12319\n",
      "[8]\tvalidation-rmse:8.02985\n",
      "[9]\tvalidation-rmse:7.94601\n",
      "[10]\tvalidation-rmse:7.86400\n",
      "[11]\tvalidation-rmse:7.78715\n",
      "[12]\tvalidation-rmse:7.71652\n",
      "[13]\tvalidation-rmse:7.64857\n",
      "[14]\tvalidation-rmse:7.58253\n",
      "[15]\tvalidation-rmse:7.52689\n",
      "[16]\tvalidation-rmse:7.47296\n",
      "[17]\tvalidation-rmse:7.41926\n",
      "[18]\tvalidation-rmse:7.36923\n",
      "[19]\tvalidation-rmse:7.32109\n",
      "[20]\tvalidation-rmse:7.27669\n",
      "[21]\tvalidation-rmse:7.23430\n",
      "[22]\tvalidation-rmse:7.19253\n",
      "[23]\tvalidation-rmse:7.15403\n",
      "[24]\tvalidation-rmse:7.11518\n",
      "[25]\tvalidation-rmse:7.08339\n",
      "[26]\tvalidation-rmse:7.05127\n",
      "[27]\tvalidation-rmse:7.01893\n",
      "[28]\tvalidation-rmse:6.98973\n",
      "[29]\tvalidation-rmse:6.96081\n",
      "[30]\tvalidation-rmse:6.93174\n",
      "[31]\tvalidation-rmse:6.90367\n",
      "[32]\tvalidation-rmse:6.87830\n",
      "[33]\tvalidation-rmse:6.85344\n",
      "[34]\tvalidation-rmse:6.82741\n",
      "[35]\tvalidation-rmse:6.80519\n",
      "[36]\tvalidation-rmse:6.78062\n",
      "[37]\tvalidation-rmse:6.76016\n",
      "[38]\tvalidation-rmse:6.73899\n",
      "[39]\tvalidation-rmse:6.72046\n",
      "[40]\tvalidation-rmse:6.70123\n",
      "[41]\tvalidation-rmse:6.68033\n",
      "[42]\tvalidation-rmse:6.66169\n",
      "[43]\tvalidation-rmse:6.64204\n",
      "[44]\tvalidation-rmse:6.62802\n",
      "[45]\tvalidation-rmse:6.61090\n",
      "[46]\tvalidation-rmse:6.59357\n",
      "[47]\tvalidation-rmse:6.57605\n",
      "[48]\tvalidation-rmse:6.56050\n",
      "[49]\tvalidation-rmse:6.54597\n"
     ]
    },
    {
     "name": "stderr",
     "output_type": "stream",
     "text": [
      "2023/05/24 15:39:25 WARNING mlflow.xgboost: Failed to infer model signature: could not sample data to infer model signature: please ensure that autologging is enabled before constructing the dataset.\n"
     ]
    }
   ],
   "source": [
    "params = {\n",
    "'learning_rate': 0.9809594318164628,\n",
    "'max_depth': 28, \n",
    "'min_child_weight': 8.521630596202131,\n",
    "'objective': 'reg:linear',\n",
    "'reg_alpha': 0.015656836827151036,\n",
    "'reg_lambda': 0.18258864885464157,\n",
    "'seed': 42,\n",
    "}\n",
    "\n",
    "mlflow.xgboost.autolog()\n",
    "\n",
    "booster = xgb.train(\n",
    "            params=params,\n",
    "            dtrain=train,\n",
    "            num_boost_round=50,\n",
    "            evals=[(valid, 'validation')],\n",
    "            early_stopping_rounds=10\n",
    "        )\n"
   ]
  },
  {
   "cell_type": "code",
   "execution_count": 32,
   "id": "bb3acad5",
   "metadata": {},
   "outputs": [],
   "source": [
    "mlflow.xgboost.autolog(disable=True)"
   ]
  },
  {
   "cell_type": "code",
   "execution_count": 33,
   "id": "f5b81e51",
   "metadata": {},
   "outputs": [
    {
     "name": "stdout",
     "output_type": "stream",
     "text": [
      "[15:59:03] WARNING: ../src/objective/regression_obj.cu:213: reg:linear is now deprecated in favor of reg:squarederror.\n",
      "[0]\tvalidation-rmse:9.25257\n",
      "[1]\tvalidation-rmse:8.95741\n",
      "[2]\tvalidation-rmse:8.75771\n",
      "[3]\tvalidation-rmse:8.60104\n",
      "[4]\tvalidation-rmse:8.46320\n",
      "[5]\tvalidation-rmse:8.33225\n",
      "[6]\tvalidation-rmse:8.22673\n",
      "[7]\tvalidation-rmse:8.12319\n",
      "[8]\tvalidation-rmse:8.02985\n",
      "[9]\tvalidation-rmse:7.94601\n",
      "[10]\tvalidation-rmse:7.86400\n",
      "[11]\tvalidation-rmse:7.78715\n",
      "[12]\tvalidation-rmse:7.71652\n",
      "[13]\tvalidation-rmse:7.64857\n",
      "[14]\tvalidation-rmse:7.58253\n",
      "[15]\tvalidation-rmse:7.52689\n",
      "[16]\tvalidation-rmse:7.47296\n",
      "[17]\tvalidation-rmse:7.41926\n",
      "[18]\tvalidation-rmse:7.36923\n",
      "[19]\tvalidation-rmse:7.32109\n",
      "[20]\tvalidation-rmse:7.27669\n",
      "[21]\tvalidation-rmse:7.23430\n",
      "[22]\tvalidation-rmse:7.19253\n",
      "[23]\tvalidation-rmse:7.15403\n",
      "[24]\tvalidation-rmse:7.11518\n",
      "[25]\tvalidation-rmse:7.08339\n",
      "[26]\tvalidation-rmse:7.05127\n",
      "[27]\tvalidation-rmse:7.01893\n",
      "[28]\tvalidation-rmse:6.98973\n",
      "[29]\tvalidation-rmse:6.96081\n",
      "[30]\tvalidation-rmse:6.93174\n",
      "[31]\tvalidation-rmse:6.90367\n",
      "[32]\tvalidation-rmse:6.87830\n",
      "[33]\tvalidation-rmse:6.85344\n",
      "[34]\tvalidation-rmse:6.82741\n",
      "[35]\tvalidation-rmse:6.80519\n",
      "[36]\tvalidation-rmse:6.78062\n",
      "[37]\tvalidation-rmse:6.76016\n",
      "[38]\tvalidation-rmse:6.73899\n",
      "[39]\tvalidation-rmse:6.72046\n",
      "[40]\tvalidation-rmse:6.70123\n",
      "[41]\tvalidation-rmse:6.68033\n",
      "[42]\tvalidation-rmse:6.66169\n",
      "[43]\tvalidation-rmse:6.64204\n",
      "[44]\tvalidation-rmse:6.62802\n",
      "[45]\tvalidation-rmse:6.61090\n",
      "[46]\tvalidation-rmse:6.59357\n",
      "[47]\tvalidation-rmse:6.57605\n",
      "[48]\tvalidation-rmse:6.56050\n",
      "[49]\tvalidation-rmse:6.54597\n"
     ]
    }
   ],
   "source": [
    "with mlflow.start_run():\n",
    "    \n",
    "    best_params = {\n",
    "        'learning_rate': 0.9809594318164628,\n",
    "        'max_depth': 28, \n",
    "        'min_child_weight': 8.521630596202131,\n",
    "        'objective': 'reg:linear',\n",
    "        'reg_alpha': 0.015656836827151036,\n",
    "        'reg_lambda': 0.18258864885464157,\n",
    "        'seed': 42,\n",
    "    }\n",
    "\n",
    "    mlflow.log_params(best_params)\n",
    "    \n",
    "    booster = xgb.train(\n",
    "                params=best_params,\n",
    "                dtrain=train,\n",
    "                num_boost_round=50,\n",
    "                evals=[(valid, 'validation')],\n",
    "                early_stopping_rounds=10\n",
    "            )\n",
    "\n",
    "    y_pred = booster.predict(valid)\n",
    "    rmse = mean_squared_error(y_val, y_pred, squared=False)\n",
    "    \n",
    "    mlflow.log_metric(\"rmse\", rmse)\n",
    "        \n",
    "    with open(\"models/preprocessor.b\", \"wb\") as f_out:\n",
    "        pickle.dump(dv, f_out)\n",
    "    \n",
    "    mlflow.log_artifact(\"models/preprocessor.b\", artifact_path=\"preprocessor\")     \n",
    "        \n",
    "    mlflow.xgboost.log_model(booster, artifact_path=\"models_mlflow\")"
   ]
  },
  {
   "cell_type": "code",
   "execution_count": 34,
   "id": "5b4df36f",
   "metadata": {},
   "outputs": [
    {
     "name": "stderr",
     "output_type": "stream",
     "text": [
      "2023/05/24 16:02:01 WARNING mlflow.pyfunc: Detected one or more mismatches between the model's dependencies and the current Python environment:\n",
      " - mlflow (current: 2.3.2, required: mlflow==2.3)\n",
      "To fix the mismatches, call `mlflow.pyfunc.get_model_dependencies(model_uri)` to fetch the model's environment and install dependencies using the resulting environment file.\n"
     ]
    },
    {
     "name": "stdout",
     "output_type": "stream",
     "text": [
      "[16:02:01] WARNING: ../src/objective/regression_obj.cu:213: reg:linear is now deprecated in favor of reg:squarederror.\n"
     ]
    }
   ],
   "source": [
    "logged_model = 'runs:/3f2b9c1802324254b560d2f317772f57/models_mlflow'\n",
    "\n",
    "# Load model as a PyFuncModel.\n",
    "loaded_model = mlflow.pyfunc.load_model(logged_model)\n"
   ]
  },
  {
   "cell_type": "code",
   "execution_count": 35,
   "id": "298576b5",
   "metadata": {},
   "outputs": [
    {
     "data": {
      "text/plain": [
       "mlflow.pyfunc.loaded_model:\n",
       "  artifact_path: models_mlflow\n",
       "  flavor: mlflow.xgboost\n",
       "  run_id: 3f2b9c1802324254b560d2f317772f57"
      ]
     },
     "execution_count": 35,
     "metadata": {},
     "output_type": "execute_result"
    }
   ],
   "source": [
    "loaded_model"
   ]
  },
  {
   "cell_type": "code",
   "execution_count": 36,
   "id": "fc49b6d5",
   "metadata": {},
   "outputs": [
    {
     "name": "stdout",
     "output_type": "stream",
     "text": [
      "[16:02:54] WARNING: ../src/objective/regression_obj.cu:213: reg:linear is now deprecated in favor of reg:squarederror.\n"
     ]
    }
   ],
   "source": [
    "xgboost_model = mlflow.xgboost.load_model(logged_model)"
   ]
  },
  {
   "cell_type": "code",
   "execution_count": 37,
   "id": "0e9a3bbf",
   "metadata": {},
   "outputs": [
    {
     "data": {
      "text/plain": [
       "<xgboost.core.Booster at 0x7fae472fe550>"
      ]
     },
     "execution_count": 37,
     "metadata": {},
     "output_type": "execute_result"
    }
   ],
   "source": [
    "xgboost_model"
   ]
  },
  {
   "cell_type": "code",
   "execution_count": 38,
   "id": "f1d6fe5f",
   "metadata": {},
   "outputs": [],
   "source": [
    "y_pred = xgboost_model.predict(valid)"
   ]
  },
  {
   "cell_type": "code",
   "execution_count": 39,
   "id": "93cd546d",
   "metadata": {},
   "outputs": [
    {
     "data": {
      "text/plain": [
       "array([14.707319, 14.707319, 14.707319, 14.707319, 32.633465, 14.707319,\n",
       "       14.707319,  6.20014 , 14.707319, 14.707319], dtype=float32)"
      ]
     },
     "execution_count": 39,
     "metadata": {},
     "output_type": "execute_result"
    }
   ],
   "source": [
    "y_pred[:10]"
   ]
  },
  {
   "cell_type": "code",
   "execution_count": null,
   "id": "a36f1051",
   "metadata": {},
   "outputs": [],
   "source": []
  }
 ],
 "metadata": {
  "kernelspec": {
   "display_name": "Python 3 (ipykernel)",
   "language": "python",
   "name": "python3"
  },
  "language_info": {
   "codemirror_mode": {
    "name": "ipython",
    "version": 3
   },
   "file_extension": ".py",
   "mimetype": "text/x-python",
   "name": "python",
   "nbconvert_exporter": "python",
   "pygments_lexer": "ipython3",
   "version": "3.11.3"
  }
 },
 "nbformat": 4,
 "nbformat_minor": 5
}
